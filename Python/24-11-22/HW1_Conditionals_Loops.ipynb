{
  "nbformat": 4,
  "nbformat_minor": 0,
  "metadata": {
    "colab": {
      "provenance": []
    },
    "kernelspec": {
      "name": "python3",
      "display_name": "Python 3"
    }
  },
  "cells": [
    {
      "cell_type": "markdown",
      "metadata": {
        "id": "mUHLJQsJaMNt"
      },
      "source": [
        "# Exercises"
      ]
    },
    {
      "cell_type": "markdown",
      "metadata": {
        "id": "GCEodKTbRd_r"
      },
      "source": [
        "## Conditionals"
      ]
    },
    {
      "cell_type": "markdown",
      "metadata": {
        "id": "YUaFYy8OIHWp"
      },
      "source": [
        "Problem1. (3 points) Write a program that asks the user to provide an integer that specifies a person's age, and according to that value print whether the person is a **child** (0-14), **young** (15-24), **adult** (25-64) or **senior** (more than 64).\n",
        "\n",
        "  Գրել ծրագիր, որը օգտատիրոջից վերցնում է տվյալ անձի տարիքը որպես ամբողջ թիվ և կախված այդ թվից տպում է **child** (0-14), **young** (15-24), **adult** (25-64) or **senior** (more than 64)։ "
      ]
    },
    {
      "cell_type": "code",
      "metadata": {
        "id": "xrSVUy31IHeV",
        "colab": {
          "base_uri": "https://localhost:8080/"
        },
        "outputId": "db33625b-8cbb-4e08-ea49-37d8d9d38ba7"
      },
      "source": [
        "age = int(input(\"Enter your age: \"))\n",
        "if age >= 0 and age <= 14:\n",
        "    print(\"child\") \n",
        "elif age >= 15 and age <=25:\n",
        "    print(\"young\")\n",
        "elif age >=25 and age <= 64:\n",
        "    print(\"adult\")\n",
        "elif age >=64:\n",
        "    print(\"senior\")\n",
        "elif age < 0:\n",
        "  print(\"Invalid age\")\n",
        "\n"
      ],
      "execution_count": 20,
      "outputs": [
        {
          "output_type": "stream",
          "name": "stdout",
          "text": [
            "Enter your age: 2\n",
            "child\n"
          ]
        }
      ]
    },
    {
      "cell_type": "markdown",
      "metadata": {
        "id": "FgcH-562IHlB"
      },
      "source": [
        "Problem2. (9 points) A year is a leap year (նահանջ տարի) if it is divisible by 4, except that years divisible by 100 are not leap years\n",
        "unless they are also divisible by 400. Write a program that asks the user for a year and prints\n",
        "out whether it is a leap year or not.\n",
        "\n",
        "  Տարին *նահանջ տարի* է, եթե տարեթիվը բաժանվում է 4-ի, բացառությամբ այն տարեթվերի, որոնք բաժանվում են 100-ի և չեն բաժանվում 400-ի վրա։ Գրել ծրագիր, որը վերցնում է օգտատիրոջ ներմուծած տարեթիվը և տպում արդյոք դա նահանջ տարի է, թե չէ։"
      ]
    },
    {
      "cell_type": "code",
      "metadata": {
        "id": "KMqAiNsGIHsU",
        "colab": {
          "base_uri": "https://localhost:8080/"
        },
        "outputId": "bd3bc146-a611-42cd-9159-7cba8662bbd9"
      },
      "source": [
        "year = int(input(\"Enter a year\"))\n",
        "if year % 100 == 0 and year % 400 == 0:\n",
        "  print(\"A year is not leap year!\")\n",
        "elif year % 4 == 0:\n",
        "  print(\"A year is leap year!\")\n",
        "\n",
        "\n",
        "  \n",
        "\n"
      ],
      "execution_count": 37,
      "outputs": [
        {
          "output_type": "stream",
          "name": "stdout",
          "text": [
            "Enter a year16000\n",
            "A year is not leap year!\n"
          ]
        }
      ]
    },
    {
      "cell_type": "markdown",
      "metadata": {
        "id": "IicCIcQvIHxY"
      },
      "source": [
        "Problem3. (3 points) Write a program that asks the user to provide three numbers. The the program should check whether the third number is the product of the first two, and if so it should display **True**, otherwise **False**. For example, in case of $2,4,8$ the output should be True because $2\\cdot 4=8$\n",
        "\n",
        "Գրել ծրագիր, որը օգտատիրոջից վերցնում է 3 թվեր և ստուգում՝ արդյոք երրորդ թիվը առաջին երկուսի արտադրյալն է, թե ոչ։ Առաջին դեպքում պետք է տպել **True**, հակառակ դեպքում՝ **False**։ Օրինակ՝ $2,4,8$ թվերի դեպքում կլինի **True**, քանի որ $2\\cdot 4=8$"
      ]
    },
    {
      "cell_type": "code",
      "metadata": {
        "id": "gW2JdxzWIH4g",
        "colab": {
          "base_uri": "https://localhost:8080/"
        },
        "outputId": "b30fd8ce-b1d2-4f3f-bf67-7b84f54428de"
      },
      "source": [
        "a = int(input(\"Enter first number: \"))\n",
        "b = int(input(\"Enter second number: \"))\n",
        "c = int(input(\"Enter third number: \"))\n",
        "if a * b == c:\n",
        "  print(\"True\")\n",
        "else:\n",
        "  print(\"False\")\n"
      ],
      "execution_count": 39,
      "outputs": [
        {
          "output_type": "stream",
          "name": "stdout",
          "text": [
            "Enter first number: 2\n",
            "Enter second number: 4\n",
            "Enter third number: 8\n",
            "True\n"
          ]
        }
      ]
    },
    {
      "cell_type": "markdown",
      "metadata": {
        "id": "MEC70di4IH_O"
      },
      "source": [
        "Problem4. (9 points) Write a program that asks the user for an hour between 1 and 12, asks them to enter **am** or **pm** [[1]](https://en.wikipedia.org/wiki/12-hour_clock),\n",
        "and asks them how many hours into the future they want to go. Print out what the hour will be after adding the last number, printing *am* or *pm* as appropriate. An example is shown\n",
        "below.\n",
        "\n",
        "  Գրել ծրագիր, որում օգտատերը ներմուծում է 1-12 թիվ (որպես ժամ), ինչպես նաև `am` կամ `pm` (իմանալ ավելին [այստեղ](https://en.wikipedia.org/wiki/12-hour_clock))։ Այնուհետև օգտատիրոջից վերցնում է մի թիվ, որը ցույց է տալիս թե քանի ժամ է ուզում գումարել սկզբնական ժամին։ Ծրագիրը պետք է վերադարձնի ժամերի գումարը և նշի արդյոք դա `am` է, թե `pm`: Օրինակ՝ \n",
        "\n",
        "\n",
        "*Enter hour: 8* \n",
        "\n",
        "*am (1) or pm (2)? 1*\n",
        "\n",
        "*How many hours ahead? 5*\n",
        "\n",
        "*New hour: 1 pm*"
      ]
    },
    {
      "cell_type": "code",
      "metadata": {
        "id": "wU6-9X9zIIFe",
        "colab": {
          "base_uri": "https://localhost:8080/"
        },
        "outputId": "3f278b93-f5ba-4375-e102-0b9d50196288"
      },
      "source": [
        "user = int(input('Enter hour: '))\n",
        "day = input('Enter am(1) or pm(2):')\n",
        "hour = int(input('How many hours ahead? '))\n",
        "\n",
        "\n",
        "if day == 'pm' and user != 12:\n",
        "    user += 12;\n",
        "elif day == 'am' and user == 12:\n",
        "    user = 0;\n",
        "\n",
        "new_hour = user + hour;\n",
        "new_hour = new_hour % 24;\n",
        "\n",
        "    \n",
        "if new_hour >= 0 and new_hour < 12:\n",
        "    new_hour = new_hour % 12 ;\n",
        "    if new_hour == 0:\n",
        "        new_hour = 12;\n",
        "    print(f'New hour : {new_hour}', end='am')\n",
        "    print()\n",
        "else:\n",
        "    new_hour = new_hour % 12;\n",
        "    if new_hour == 0:\n",
        "        new_hour = 12 ;\n",
        "    print(f'New hour : {new_hour}', end='pm')\n",
        "    print()"
      ],
      "execution_count": 59,
      "outputs": [
        {
          "output_type": "stream",
          "name": "stdout",
          "text": [
            "Enter hour: 8\n",
            "Enter am(1) or pm(2):1\n",
            "How many hours ahead? 5\n",
            "New hour : 1pm\n"
          ]
        }
      ]
    },
    {
      "cell_type": "markdown",
      "metadata": {
        "id": "DX4939I0Kdqt"
      },
      "source": [
        "Problem5. (4 points) A company decided to give bonus of $5\\%$ to those employees whose experience in the company is more than $5$ years.\n",
        "Ask the user for their salary and number of working years and print the net bonus amount, otherwise print **No bonus**.\n",
        "\n",
        "  Ինչ-որ ընկերություն որոշել է տրամադրել $5\\%$ բոնուս այն աշխատակիցներին, ովքեր աշխատանքային փորձը գերազանցում է 5 տարին։ Օգտատիրոջ կողմից մուտքագրված աշխատավարձի և աշխատանքային տարիների տվյալի հիման վրա անհրաժեշտ է հաշվել և տպել ստացվելիք զուտ բոնուսի չափը, հակառակ դեպքում տպել **No bonus**։"
      ]
    },
    {
      "cell_type": "code",
      "metadata": {
        "id": "bAKqzpv6KfDJ",
        "colab": {
          "base_uri": "https://localhost:8080/"
        },
        "outputId": "0c4b6569-6248-4ca2-cbf6-5ebe3beaf169"
      },
      "source": [
        "work_salary = int(input(\"How much salary do you earn: \"))\n",
        "work_year = int(input(\"How many years have you been working: \"))\n",
        "bonus =  (work_salary * 5) // 100\n",
        "if work_year > 5:\n",
        "  print(\"The bonus is \", bonus)\n",
        "else:\n",
        "  print(\"No bonus\")\n",
        "\n"
      ],
      "execution_count": 65,
      "outputs": [
        {
          "output_type": "stream",
          "name": "stdout",
          "text": [
            "How much salary do you earn: 20000\n",
            "How many years have you been working: 6\n",
            "The bonus is  1000\n"
          ]
        }
      ]
    },
    {
      "cell_type": "markdown",
      "metadata": {
        "id": "0N7CjkxwY3Jj"
      },
      "source": [
        "## while loop"
      ]
    },
    {
      "cell_type": "markdown",
      "metadata": {
        "id": "DyI6E4pMY3TW"
      },
      "source": [
        "Problem6. (9 points) Rewrite the code using a **while** loop to accomplish the same thing.\n",
        "\n",
        "  Գրել նշված ծրագիրը **while** ցիկլով։\n",
        "\n",
        "`for i in range(1, 51):`\n",
        "\n",
        "           `print(i)`\n"
      ]
    },
    {
      "cell_type": "code",
      "metadata": {
        "id": "xXnFBwF6Y3aG"
      },
      "source": [],
      "execution_count": 64,
      "outputs": []
    },
    {
      "cell_type": "markdown",
      "metadata": {
        "id": "LN3WNPA8Y3fE"
      },
      "source": [
        "Problem7. (9 points) Write a program with **while** loop, to play the following game. The player starts with $\\$100$. On each\n",
        "turn a coin is flipped and the player has to guess heads or tails. The player wins $\\$9$ for each\n",
        "correct guess and loses $\\$10$ for each incorrect guess. The game ends either when the player\n",
        "runs out of money or gets to $\\$200$.\n",
        "\n",
        "  Գրել ծրագիր **while** ցիկլով, որը կխաղա հետևյալ խաղը․ խաղացողը սկսում է $\\$100$-ով և յուրաքանչյուր քայլում նետվում է մետաղադրամ, իսկ խաղացողը պետք է գուշակի արդյոք ղուշ է ստացվել, թե գիր։ Յուրաքանչյուր ճիշտ գուշակածի համար խաղացողը ստանում է $\\$9$ և կորցնում է $\\$10$ յուրաքանչյուր սխալի դեպքում։ Խաղն ավարտվում է, եթե խաղացողը կորցնում է ամբողջ գումարը կամ հավաքում է $\\$200$:"
      ]
    },
    {
      "cell_type": "code",
      "metadata": {
        "id": "c78pu3CXY3j1"
      },
      "source": [],
      "execution_count": null,
      "outputs": []
    },
    {
      "cell_type": "markdown",
      "metadata": {
        "id": "5Q2uHy0LY3od"
      },
      "source": [
        "Problem8. (9 points) Write a program with **while** loop to create the multiplication table (from 1 to 10) of the given number by the user.\n",
        "\n",
        "  Գրել ծրագիր **while** ցիկլով, որը կտպի օգտատիրոջ կողմից տրված թվի բազմապատկման աղյուսակը (թիվը բազմապատկած 1-ից 10 ամբողջ թվերով)։ Օրինակ՝ 2 թվի համար կլինի\n",
        "\n",
        "  `2 x 1 = 2`\n",
        "\n",
        "  `2 x 2 = 4`\n",
        "\n",
        "  `2 x 3 = 6`\n",
        "\n",
        "  `...`\n",
        "\n",
        "  `2 x 10 = 20`\n",
        "\n"
      ]
    },
    {
      "cell_type": "code",
      "metadata": {
        "id": "jTHfgLx8Y3uR"
      },
      "source": [],
      "execution_count": null,
      "outputs": []
    },
    {
      "cell_type": "markdown",
      "metadata": {
        "id": "htmsWR2NZtlP"
      },
      "source": [
        "## for loop"
      ]
    },
    {
      "cell_type": "markdown",
      "metadata": {
        "id": "47iO-RfmZtsK"
      },
      "source": [
        "Problem9. (9 points) Write a program that uses a for loop to print the numbers 100, 98, 96, . . . , 4, 2.\n",
        "\n",
        "  Գրել ծրագիր, որը օգտագործելով **for** ցիկլ կտպի թվերի հետևյալ հաջորդականությունը 100, 98, 96, . . . , 4, 2․"
      ]
    },
    {
      "cell_type": "code",
      "metadata": {
        "id": "t1aU-LZrZtxF"
      },
      "source": [],
      "execution_count": null,
      "outputs": []
    },
    {
      "cell_type": "markdown",
      "metadata": {
        "id": "OQ5QTqmrZxbV"
      },
      "source": [
        "Problem10. (9 points) Write a program that asks the user for their name and how many times to print it. The program\n",
        "should print out the user's name the specified number of times on the same line separated with a space.\n",
        "\n",
        "  Գրել ծրագիր, որը կվերցնի օգտատիրոջ անունը և մի թիվ, որը կներկայացնի թե քանի անգամ պետք է տպել այդ անունը։ Ծրագիրը պետք է տպի այդ անունը նշված քանակությամբ նույն տողում (բացատով առանձնացված)։"
      ]
    },
    {
      "cell_type": "code",
      "metadata": {
        "id": "-2gUnWUnZxfl"
      },
      "source": [],
      "execution_count": null,
      "outputs": []
    },
    {
      "cell_type": "markdown",
      "metadata": {
        "id": "S74SK5tHZxj5"
      },
      "source": [
        "Problem11. (9 points) The Fibonacci numbers are the sequence below, where the first two numbers are 1, and each\n",
        "number thereafter is the sum of the two preceding numbers. Write a program that asks the\n",
        "user how many Fibonacci numbers to print and then prints that many.\n",
        "\n",
        "  Ֆիբոնաչիի թվերի հաջորդականությունը այնպիսին է, որ առաջին երկու թվերը 1 են, իսկ մնացած թվերը ստացվում ենք նախորդ երկուսի գումարից։ Գրել ծրագիր, որը տպում է օգտատիրոջ կողմից նշված քանակությամբ ֆիբոնաչիի հաջորդականության թվեր առանձնացված ստորակետով, օրինակ՝ 11-ի համար կլինի այսպես․ \n",
        "$$1, 1, 2, 3, 5, 8, 13, 21, 34, 55, 89$$"
      ]
    },
    {
      "cell_type": "code",
      "metadata": {
        "id": "Jce7Z8LAZxnr",
        "colab": {
          "base_uri": "https://localhost:8080/",
          "height": 35
        },
        "outputId": "eed6882f-af80-43ef-d5a3-c34773d65fdf"
      },
      "source": [
        "numbers = eval(input('Enter the number:'))\n",
        "last_number = 1\n",
        "pre_last = 0\n",
        "x = 0\n",
        "for i in range(numbers):\n",
        "  print(x, end=',')\n",
        "  x = pre_last + last_number\n",
        "  pre_last, last_number = last_number, x"
      ],
      "execution_count": null,
      "outputs": [
        {
          "output_type": "stream",
          "text": [
            "Enter the number:0\n"
          ],
          "name": "stdout"
        }
      ]
    },
    {
      "cell_type": "markdown",
      "metadata": {
        "id": "chqWLQtkZxro"
      },
      "source": [
        "Problem12. (9 points) Write a program that asks the user to enter a value $n$, and then prints the value for $1+\\frac{1}{2}+\\frac{1}{3}+\\ldots+\\frac{1}{n}$. \n",
        "\n",
        "  Գրել ծրագիր, որը օգտատիրոջ կողմից մուտքագրված $n$-ի համար կհաշվի հետևյալ արտահայտությունը $1+\\frac{1}{2}+\\frac{1}{3}+\\ldots+\\frac{1}{n}$ և կտպի ստացված արժեքը։\n"
      ]
    },
    {
      "cell_type": "code",
      "metadata": {
        "id": "9zb_Cd3FZ9Ra"
      },
      "source": [],
      "execution_count": null,
      "outputs": []
    },
    {
      "cell_type": "markdown",
      "metadata": {
        "id": "gM-DuhoCZ9WE"
      },
      "source": [
        "Problem13. (9 points) Write a program to compute the sum $1-2+3-4+\\ldots+1999-2000$ using a **for** loop.\n",
        "\n",
        "  Գրել ծրագիր, որը կհաշվի հետևյալ գումարը $1-2+3-4+\\ldots+1999-2000$ օգտագործելով **for** ցիկլը։"
      ]
    },
    {
      "cell_type": "code",
      "metadata": {
        "id": "xkuGxtT8Z9an"
      },
      "source": [],
      "execution_count": null,
      "outputs": []
    }
  ]
}